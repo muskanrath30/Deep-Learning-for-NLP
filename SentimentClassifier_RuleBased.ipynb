{
  "nbformat": 4,
  "nbformat_minor": 0,
  "metadata": {
    "colab": {
      "provenance": [],
      "toc_visible": true,
      "include_colab_link": true
    },
    "kernelspec": {
      "name": "python3",
      "display_name": "Python 3"
    },
    "language_info": {
      "name": "python"
    }
  },
  "cells": [
    {
      "cell_type": "markdown",
      "metadata": {
        "id": "view-in-github",
        "colab_type": "text"
      },
      "source": [
        "<a href=\"https://colab.research.google.com/github/muskanrath30/muskanrath30/blob/main/SentimentClassifier_RuleBased.ipynb\" target=\"_parent\"><img src=\"https://colab.research.google.com/assets/colab-badge.svg\" alt=\"Open In Colab\"/></a>"
      ]
    },
    {
      "cell_type": "markdown",
      "source": [
        "# Install Dependencies"
      ],
      "metadata": {
        "id": "CEGeb4wkqhyi"
      }
    },
    {
      "cell_type": "code",
      "execution_count": 1,
      "metadata": {
        "colab": {
          "base_uri": "https://localhost:8080/"
        },
        "id": "_jF1X3NxmfWv",
        "outputId": "cea3463f-6635-422b-a313-7919c9b90c84"
      },
      "outputs": [
        {
          "output_type": "stream",
          "name": "stdout",
          "text": [
            "Looking in indexes: https://pypi.org/simple, https://us-python.pkg.dev/colab-wheels/public/simple/\n",
            "Requirement already satisfied: gdown in /usr/local/lib/python3.10/dist-packages (4.6.6)\n",
            "Requirement already satisfied: six in /usr/local/lib/python3.10/dist-packages (from gdown) (1.16.0)\n",
            "Requirement already satisfied: beautifulsoup4 in /usr/local/lib/python3.10/dist-packages (from gdown) (4.11.2)\n",
            "Requirement already satisfied: filelock in /usr/local/lib/python3.10/dist-packages (from gdown) (3.12.0)\n",
            "Requirement already satisfied: tqdm in /usr/local/lib/python3.10/dist-packages (from gdown) (4.65.0)\n",
            "Requirement already satisfied: requests[socks] in /usr/local/lib/python3.10/dist-packages (from gdown) (2.27.1)\n",
            "Requirement already satisfied: soupsieve>1.2 in /usr/local/lib/python3.10/dist-packages (from beautifulsoup4->gdown) (2.4.1)\n",
            "Requirement already satisfied: charset-normalizer~=2.0.0 in /usr/local/lib/python3.10/dist-packages (from requests[socks]->gdown) (2.0.12)\n",
            "Requirement already satisfied: idna<4,>=2.5 in /usr/local/lib/python3.10/dist-packages (from requests[socks]->gdown) (3.4)\n",
            "Requirement already satisfied: certifi>=2017.4.17 in /usr/local/lib/python3.10/dist-packages (from requests[socks]->gdown) (2022.12.7)\n",
            "Requirement already satisfied: urllib3<1.27,>=1.21.1 in /usr/local/lib/python3.10/dist-packages (from requests[socks]->gdown) (1.26.15)\n",
            "Requirement already satisfied: PySocks!=1.5.7,>=1.5.6 in /usr/local/lib/python3.10/dist-packages (from requests[socks]->gdown) (1.7.1)\n"
          ]
        }
      ],
      "source": [
        "!pip install gdown"
      ]
    },
    {
      "cell_type": "markdown",
      "source": [
        "# Download Data"
      ],
      "metadata": {
        "id": "2JS38e65pjSE"
      }
    },
    {
      "cell_type": "code",
      "source": [
        "!gdown https://drive.google.com/uc?id=1h8Es1iPcg3Fs2CmUNi7MZeSG6I7nj2xc\n",
        "!gdown https://drive.google.com/uc?id=1v5R0lS3U3MFXdtNaSiKOAQQ2P7dhc9eT\n",
        "!gdown https://drive.google.com/uc?id=1_bcMpkPGKZ7tvuTL81YvgMJGqUPr7sIr"
      ],
      "metadata": {
        "colab": {
          "base_uri": "https://localhost:8080/"
        },
        "id": "aCdJdMIGpKIg",
        "outputId": "b6c1fbbe-8a98-4d55-d0a0-5ca18e414626"
      },
      "execution_count": 2,
      "outputs": [
        {
          "output_type": "stream",
          "name": "stdout",
          "text": [
            "Downloading...\n",
            "From: https://drive.google.com/uc?id=1h8Es1iPcg3Fs2CmUNi7MZeSG6I7nj2xc\n",
            "To: /content/test.tsv\n",
            "100% 206k/206k [00:00<00:00, 86.8MB/s]\n",
            "Downloading...\n",
            "From: https://drive.google.com/uc?id=1v5R0lS3U3MFXdtNaSiKOAQQ2P7dhc9eT\n",
            "To: /content/train.tsv\n",
            "100% 787k/787k [00:00<00:00, 136MB/s]\n",
            "Downloading...\n",
            "From: https://drive.google.com/uc?id=1_bcMpkPGKZ7tvuTL81YvgMJGqUPr7sIr\n",
            "To: /content/valid.tsv\n",
            "100% 101k/101k [00:00<00:00, 53.5MB/s]\n"
          ]
        }
      ]
    },
    {
      "cell_type": "markdown",
      "source": [
        "# Load Data"
      ],
      "metadata": {
        "id": "fNNerhsmp8UA"
      }
    },
    {
      "cell_type": "code",
      "source": [
        "label_map = {\"positive\": 1, \"negative\": 0}\n",
        "\n",
        "def load_data(filename):\n",
        "    sentences = []\n",
        "    labels = []\n",
        "    for f in open(filename):\n",
        "        parts = f.split(\"\\t\")\n",
        "        sentences.append(parts[0])\n",
        "        labels.append(label_map[parts[1].strip()])\n",
        "    return sentences, labels\n"
      ],
      "metadata": {
        "id": "sHXJhmtqpnOD"
      },
      "execution_count": 3,
      "outputs": []
    },
    {
      "cell_type": "markdown",
      "source": [
        "# Extract Features\n",
        "\n",
        "In this exercise, we are using Bag of Words features -- i.e. does a specified word appear in the sentence, or not. "
      ],
      "metadata": {
        "id": "l1KmDrc0qmqP"
      }
    },
    {
      "cell_type": "code",
      "source": [
        "def extract_features(sentence):\n",
        "    # edit the below two lines (good_words and bad_words) and check the accuracy\n",
        "    #good_words = set([\"best\", \"good\", \"delicious\", \"lovely\"])\n",
        "    #bad_words = set([\"worst\", \"bad\", \"abysmal\"])\n",
        "    good_words = set([\"best\", \"good\", \"delicious\", \"lovely\",\"stupendous\",\"magnificent\",\"beautiful\",\"magnanimous\",\"enterprising\",\"cheerful\",\"trustworthy\",\"vibrant\",\"accomplished\",\"graceful\",\"sincere\",\"serene\",\"divine\"])\n",
        "    bad_words = set([\"worst\", \"bad\", \"abysmal\",\"horrible\",\"exasperating\",\"harrowing\",\"heart breaking\",\"heart wrenching\",\"dishonest\",\"anger\",\"arrogant\",\"disgraceful\",\"rude\",\"apathy\"])\n",
        "    \n",
        "    return_dict = {\"num_positive_words\": 0, \"num_negative_words\": 0}\n",
        "    \n",
        "    for word in sentence.split(\" \"):\n",
        "        if word in good_words:\n",
        "            return_dict[\"num_positive_words\"] = return_dict[\"num_positive_words\"] + 1\n",
        "        if word in bad_words:\n",
        "            return_dict[\"num_negative_words\"] = return_dict[\"num_negative_words\"] + 1\n",
        "    return return_dict"
      ],
      "metadata": {
        "id": "o0VWrXlJqBhI"
      },
      "execution_count": 60,
      "outputs": []
    },
    {
      "cell_type": "markdown",
      "source": [
        "# Classification"
      ],
      "metadata": {
        "id": "JjFaOIBaqyKi"
      }
    },
    {
      "cell_type": "code",
      "source": [
        "def classify(sentence):\n",
        "    features = extract_features(sentence)\n",
        "\n",
        "    if features[\"num_positive_words\"] > features[\"num_negative_words\"]:\n",
        "        return 1\n",
        "    else:\n",
        "        return 0"
      ],
      "metadata": {
        "id": "b_f-1mVaqCY1"
      },
      "execution_count": 61,
      "outputs": []
    },
    {
      "cell_type": "markdown",
      "source": [
        "# Evaluation\n",
        "\n",
        "This method computes accuracy given the predictions and the gold labels."
      ],
      "metadata": {
        "id": "ROQkPtOOq1Em"
      }
    },
    {
      "cell_type": "code",
      "source": [
        "def evaluate(predictions, labels):\n",
        "    correct = 0\n",
        "    for p, l in zip(predictions, labels):\n",
        "        if p == l:\n",
        "            correct += 1\n",
        "    return float(correct / len(predictions))"
      ],
      "metadata": {
        "id": "Li2odKcLqEdB"
      },
      "execution_count": 62,
      "outputs": []
    },
    {
      "cell_type": "markdown",
      "source": [
        "# Error analysis\n",
        "\n",
        "This method is helpful in finding instances of the dataset that the classifier gets wrong."
      ],
      "metadata": {
        "id": "YEuLKpKbq5TE"
      }
    },
    {
      "cell_type": "code",
      "source": [
        "def analysis(sentences, predictions, labels):\n",
        "    incorrect = []\n",
        "    for s, p, l in zip(sentences, predictions, labels):\n",
        "        if p != l:\n",
        "            incorrect.append(s + \"\\t\" + str(p) + \"\\t\" + str(l))\n",
        "    return incorrect"
      ],
      "metadata": {
        "id": "OwK0zPl-qGa5"
      },
      "execution_count": 63,
      "outputs": []
    },
    {
      "cell_type": "markdown",
      "source": [
        "# Main method to run the sentiment classifier\n"
      ],
      "metadata": {
        "id": "Z41efK0irAsZ"
      }
    },
    {
      "cell_type": "code",
      "source": [
        "def main(train_file=\"/content/train.tsv\", valid_file=\"/content/valid.tsv\"):\n",
        "    train_sentences, train_labels = load_data(train_file)\n",
        "    valid_sentences, valid_labels = load_data(valid_file)\n",
        "    \n",
        "    predictions = [classify(s) for s in valid_sentences]\n",
        "    accuracy = evaluate(predictions, valid_labels)\n",
        "    print(accuracy)\n",
        "    print(\"\\n\\n\\n\".join(analysis(valid_sentences, predictions, valid_labels)[:10]))\n",
        "    \n",
        "    "
      ],
      "metadata": {
        "id": "L2LWC41zqIAi"
      },
      "execution_count": 64,
      "outputs": []
    },
    {
      "cell_type": "code",
      "source": [
        "main()"
      ],
      "metadata": {
        "colab": {
          "base_uri": "https://localhost:8080/"
        },
        "id": "mYyV-wGaqZ8Q",
        "outputId": "30cca013-18ae-43e5-9484-7163d04f53c3"
      },
      "execution_count": 65,
      "outputs": [
        {
          "output_type": "stream",
          "name": "stdout",
          "text": [
            "0.5286697247706422\n",
            "And if you 're not nearly moved to tears by a couple of scenes , you 've got ice water in your veins .\t0\t1\n",
            "\n",
            "\n",
            "A warm , funny , engaging film .\t0\t1\n",
            "\n",
            "\n",
            "Uses sharp humor and insight into human nature to examine class conflict , adolescent yearning , the roots of friendship and sexual identity .\t0\t1\n",
            "\n",
            "\n",
            "Visually imaginative , thematically instructive and thoroughly delightful , it takes us on a roller-coaster ride from innocence to experience without even a hint of that typical kiddie-flick sentimentality .\t0\t1\n",
            "\n",
            "\n",
            "Nothing 's at stake , just a twisty double-cross you can smell a mile away -- still , the derivative Nine Queens is lots of fun .\t0\t1\n",
            "\n",
            "\n",
            "Unlike the speedy wham-bam effect of most Hollywood offerings , character development -- and more importantly , character empathy -- is at the heart of Italian for Beginners .\t0\t1\n",
            "\n",
            "\n",
            "You 'll gasp appalled and laugh outraged and possibly , watching the spectacle of a promising young lad treading desperately in a nasty sea , shed an errant tear .\t0\t1\n",
            "\n",
            "\n",
            "The band 's courage in the face of official repression is inspiring , especially for aging hippies -LRB- this one included -RRB- .\t0\t1\n",
            "\n",
            "\n",
            "A beguiling splash of pastel colors and prankish comedy from Disney .\t0\t1\n",
            "\n",
            "\n",
            "As surreal as a dream and as detailed as a photograph , as visually dexterous as it is at times imaginatively overwhelming .\t0\t1\n"
          ]
        }
      ]
    },
    {
      "cell_type": "markdown",
      "source": [],
      "metadata": {
        "id": "YEZZPV1yqBNp"
      }
    }
  ]
}